{
 "cells": [
  {
   "cell_type": "code",
   "execution_count": 1,
   "metadata": {
    "collapsed": true
   },
   "outputs": [],
   "source": [
    "from utils import *"
   ]
  },
  {
   "cell_type": "code",
   "execution_count": 2,
   "metadata": {
    "collapsed": true
   },
   "outputs": [],
   "source": [
    "train_data, train_results, test_data, test_results = read_data()"
   ]
  },
  {
   "cell_type": "code",
   "execution_count": 13,
   "metadata": {
    "collapsed": true
   },
   "outputs": [],
   "source": [
    "from sklearn.ensemble import RandomForestRegressor\n",
    "\n",
    "def random_forest_regressor(train_data, train_results, test_data, points_to_compare, features='all',\n",
    "                            prediction_mode='delta', **est_parameters):\n",
    "    \n",
    "    est = RandomForestRegressor(n_jobs=-1, random_state=0, **est_parameters)\n",
    "    \n",
    "    if features == 'all':\n",
    "        make_model = to_model_with_features\n",
    "    else:\n",
    "        make_model = to_model\n",
    "    \n",
    "    if prediction_mode == 'delta':\n",
    "        make_results = make_delta\n",
    "        unmake_results = unmake_delta\n",
    "    else:\n",
    "        make_results = lambda train_data, train_results: train_results\n",
    "        unmake_results = lambda test_data, prediction: prediction\n",
    "    \n",
    "    est.fit(make_model(train_data), to_model(make_results(train_data, train_results))) \n",
    "    prediction = unmake_results(test_data, from_model(est.predict(make_model(test_data))))\n",
    "        \n",
    "    return prediction[:points_to_compare]"
   ]
  },
  {
   "cell_type": "code",
   "execution_count": 51,
   "metadata": {},
   "outputs": [
    {
     "name": "stderr",
     "output_type": "stream",
     "text": [
      "/Users/anastasia/Projects/cuddly-robot-part-2/utils.py:104: RuntimeWarning: invalid value encountered in true_divide\n",
      "  cort_coord = movement_vector / double_speed\n",
      "/Users/anastasia/Projects/cuddly-robot-part-2/utils.py:104: RuntimeWarning: invalid value encountered in true_divide\n",
      "  cort_coord = movement_vector / double_speed\n"
     ]
    }
   ],
   "source": [
    "result = random_forest_regressor(train_data=train_data, train_results=train_results, test_data=test_data,\n",
    "                        points_to_compare=1, n_estimators=50)"
   ]
  },
  {
   "cell_type": "code",
   "execution_count": 53,
   "metadata": {},
   "outputs": [],
   "source": [
    "predicted_point = (result[0] / 30).astype(int)"
   ]
  },
  {
   "cell_type": "code",
   "execution_count": 54,
   "metadata": {},
   "outputs": [],
   "source": [
    "true_point = (np.array(test_results)[0] / 30).astype(int)"
   ]
  },
  {
   "cell_type": "code",
   "execution_count": 57,
   "metadata": {
    "collapsed": true
   },
   "outputs": [],
   "source": [
    "predicted_row = predicted_point[::2]"
   ]
  },
  {
   "cell_type": "code",
   "execution_count": 58,
   "metadata": {
    "collapsed": true
   },
   "outputs": [],
   "source": [
    "predicted_column = predicted_point[1::2]"
   ]
  },
  {
   "cell_type": "code",
   "execution_count": 61,
   "metadata": {
    "collapsed": true
   },
   "outputs": [],
   "source": [
    "true_row = true_point[::2]\n",
    "true_column = true_point[1::2]"
   ]
  },
  {
   "cell_type": "code",
   "execution_count": 68,
   "metadata": {},
   "outputs": [
    {
     "data": {
      "text/plain": [
       "0.73224952156347256"
      ]
     },
     "execution_count": 68,
     "metadata": {},
     "output_type": "execute_result"
    }
   ],
   "source": [
    "((predicted_row == true_row) * (predicted_column == true_column)).sum() / len(true_column)"
   ]
  },
  {
   "cell_type": "code",
   "execution_count": null,
   "metadata": {
    "collapsed": true
   },
   "outputs": [],
   "source": []
  }
 ],
 "metadata": {
  "kernelspec": {
   "display_name": "Python 3",
   "language": "python",
   "name": "python3"
  },
  "language_info": {
   "codemirror_mode": {
    "name": "ipython",
    "version": 3
   },
   "file_extension": ".py",
   "mimetype": "text/x-python",
   "name": "python",
   "nbconvert_exporter": "python",
   "pygments_lexer": "ipython3",
   "version": "3.6.1"
  }
 },
 "nbformat": 4,
 "nbformat_minor": 2
}
