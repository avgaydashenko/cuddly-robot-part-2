{
 "cells": [
  {
   "cell_type": "code",
   "execution_count": 9,
   "metadata": {
    "collapsed": true
   },
   "outputs": [],
   "source": [
    "from utils import *\n",
    "np.random.seed(0)"
   ]
  },
  {
   "cell_type": "markdown",
   "metadata": {},
   "source": [
    "Pedestrians' average speed: 35 by x-coordinate and 30 by y-coordinate.\n",
    "\n",
    "So let's assume pedestrian(s) takes the whole 30x30 block. That minimize our 1920x1080 field to 64x36 on which we will be calculate robot's path"
   ]
  },
  {
   "cell_type": "code",
   "execution_count": 2,
   "metadata": {
    "collapsed": true
   },
   "outputs": [],
   "source": [
    "STEP = 30"
   ]
  },
  {
   "cell_type": "code",
   "execution_count": 10,
   "metadata": {
    "collapsed": false
   },
   "outputs": [],
   "source": [
    "paths = np.load('src/all_paths.npy')\n",
    "paths[:, 0] = paths[:, 0] / 4\n",
    "paths[:, 1] = paths[:, 1] / STEP\n",
    "paths[:, 2] = paths[:, 2] / STEP\n",
    "\n",
    "ped_time = paths[:,0]\n",
    "ped_x = paths[:,1]\n",
    "ped_y = paths[:,2]"
   ]
  },
  {
   "cell_type": "code",
   "execution_count": 7,
   "metadata": {
    "collapsed": false
   },
   "outputs": [],
   "source": [
    "obs = Image.open('src/Images/obstacles.png')\n",
    "obs = (~np.array(obs).sum(axis=2).astype(bool)).astype(int)\n",
    "\n",
    "grid = np.zeros((int(FRAME_HEIGHT / STEP), int(FRAME_WIDTH / STEP)), dtype=int)\n",
    "\n",
    "for i in range(grid.shape[0]):\n",
    "    for j in range(grid.shape[1]):\n",
    "        x1, x2 = i * STEP, (i + 1) * STEP\n",
    "        y1, y2 = j * STEP, (j + 1) * STEP\n",
    "        if obs[x1 : x2, y1 : y2].sum() > STEP * STEP / 2:\n",
    "            grid[i, j] = 1"
   ]
  },
  {
   "cell_type": "code",
   "execution_count": 14,
   "metadata": {
    "collapsed": false
   },
   "outputs": [],
   "source": [
    "x_start = 34 # from 0 to 35\n",
    "y_start = 4 # from 0 to 63\n",
    "x_goal = 25 # from 0 to 35\n",
    "y_goal = 20 # from 0 to 63\n",
    "start_time = 0 # from 0 to 30000\n",
    "\n",
    "assert grid[x_start, y_start] == 0\n",
    "assert grid[x_goal, y_goal] == 0"
   ]
  },
  {
   "cell_type": "code",
   "execution_count": null,
   "metadata": {
    "collapsed": true
   },
   "outputs": [],
   "source": []
  },
  {
   "cell_type": "code",
   "execution_count": null,
   "metadata": {
    "collapsed": true
   },
   "outputs": [],
   "source": [
    "# dummy robot\n"
   ]
  },
  {
   "cell_type": "code",
   "execution_count": null,
   "metadata": {
    "collapsed": true
   },
   "outputs": [],
   "source": [
    "def find_by_point(time, x, y):\n",
    "    indices = np.arange(NUMBER_OF_PEDESTRIANS)\n",
    "        \n",
    "    path = np.array([time, x, y])\n",
    "        \n",
    "    for i in indices:\n",
    "        df = download_pedestrian(i, True)\n",
    "        df.insert(0, 'index', df.index)\n",
    "        \n",
    "        data = np.array(df)\n",
    "        \n",
    "        ind = np.where(np.all(data == path, axis=1))[0]\n",
    "        \n",
    "        if len(ind) > 0:\n",
    "            return (i, df.index.values[ind[0]])\n",
    "        \n",
    "    return (-1, -1)"
   ]
  },
  {
   "cell_type": "code",
   "execution_count": null,
   "metadata": {
    "collapsed": false
   },
   "outputs": [],
   "source": [
    "answer = 0\n",
    "time = start_time\n",
    "\n",
    "for i in range(len(rob_x)):\n",
    "    x = rob_x[i]\n",
    "    y = rob_y[i]\n",
    "    r = 10\n",
    "    indices = np.where(ped_time == time)\n",
    "    x_in_time = ped_x[indices]\n",
    "    y_in_time = ped_y[indices]\n",
    "    \n",
    "    intersect = np.where((x_in_time > x-r)*(x_in_time < x+r)*(y_in_time > y-r)*(y_in_time < y+r))[0]\n",
    "    answer += intersect.size\n",
    "    \n",
    "    if intersect.size > 0:\n",
    "        ped_index = find_by_point(time, x_in_time[intersect[0]], y_in_time[intersect[0]])\n",
    "        print(i, time, x, y, ped_index[0])\n",
    "        \n",
    "    time += 4"
   ]
  },
  {
   "cell_type": "code",
   "execution_count": null,
   "metadata": {
    "collapsed": false
   },
   "outputs": [],
   "source": [
    "answer"
   ]
  },
  {
   "cell_type": "code",
   "execution_count": null,
   "metadata": {
    "collapsed": false
   },
   "outputs": [],
   "source": [
    "ped1 = np.array(download_pedestrian(3369))\n",
    "ped2 = np.array(download_pedestrian(3361))\n",
    "ped3 = np.array(download_pedestrian(3360))\n",
    "rob = np.array([rob_x, rob_y]).T\n",
    "\n",
    "draw_lines(39500, [rob, ped1, ped2, ped3], ['green', 'red', 'blue', 'yellow'], 'img')"
   ]
  },
  {
   "cell_type": "code",
   "execution_count": null,
   "metadata": {
    "collapsed": true
   },
   "outputs": [],
   "source": []
  }
 ],
 "metadata": {
  "anaconda-cloud": {},
  "kernelspec": {
   "display_name": "Python [default]",
   "language": "python",
   "name": "python3"
  },
  "language_info": {
   "codemirror_mode": {
    "name": "ipython",
    "version": 3
   },
   "file_extension": ".py",
   "mimetype": "text/x-python",
   "name": "python",
   "nbconvert_exporter": "python",
   "pygments_lexer": "ipython3",
   "version": "3.5.2"
  }
 },
 "nbformat": 4,
 "nbformat_minor": 0
}
