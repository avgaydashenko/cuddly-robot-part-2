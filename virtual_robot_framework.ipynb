{
 "cells": [
  {
   "cell_type": "code",
   "execution_count": 1,
   "metadata": {
    "collapsed": true
   },
   "outputs": [],
   "source": [
    "from utils import *"
   ]
  },
  {
   "cell_type": "code",
   "execution_count": 2,
   "metadata": {
    "collapsed": false
   },
   "outputs": [],
   "source": [
    "paths = np.load('src/all_paths.npy')\n",
    "ped_time = paths[:,0]\n",
    "ped_x = paths[:,1]\n",
    "ped_y = paths[:,2]"
   ]
  },
  {
   "cell_type": "markdown",
   "metadata": {},
   "source": [
    "We will generate some paths from left to rigth. So we need to choose two points between 0 and 1080 (frame height) -- one for each side.\n",
    "\n",
    "Robot has straight path from point 'start' til point 'end'. Also we need to choose start time.\n",
    "\n",
    "We have data frames from time 0 to time 120,000 (but in fact we have only every twentieth frame and only every fourth frame in paths interpolation so lets choose a number between 0 and 30,000 and then multiply it by 4).\n",
    "\n",
    "And we need to decide in how many steps robot will achive destination.\n",
    "To select reasonable speed let's calculate pedestrians' average speed. It's 35 by x-coordinate and 30 by y-coordinate. Let's assume that required number of steps (NoS) it's maximum between NoS by x with speed 35 and NoS by y with speed 30."
   ]
  },
  {
   "cell_type": "code",
   "execution_count": 3,
   "metadata": {
    "collapsed": false
   },
   "outputs": [],
   "source": [
    "np.random.seed(0)\n",
    "\n",
    "start = (0, np.random.random_integers(0, FRAME_HEIGHT))\n",
    "end = (FRAME_WIDTH, np.random.random_integers(0, FRAME_HEIGHT))\n",
    "start_time = 4 * np.random.random_integers(0, 30000)"
   ]
  },
  {
   "cell_type": "markdown",
   "metadata": {},
   "source": [
    "Now we have all initial data and can generate the whole robot path."
   ]
  },
  {
   "cell_type": "code",
   "execution_count": 50,
   "metadata": {
    "collapsed": false
   },
   "outputs": [],
   "source": [
    "rob_time = np.arange(start_time, start_time + 4 * number_of_steps, 4)\n",
    "rob_x = np.empty(0, dtype=np.int64)\n",
    "rob_y = np.empty(0, dtype=np.int64)\n",
    "\n",
    "points = [(553, 63), (672, 600), (915, 997), (1618, 358)]\n",
    "\n",
    "for start, end in zip(points[:-1], points[1:]):\n",
    "    number_of_steps = int(max(abs(end[0] - start[0]) / 35, abs(end[1] - start[1]) / 30)) + 1\n",
    "    rob_x = np.append(rob_x, np.linspace(start[0], end[0], number_of_steps).astype(np.int64))\n",
    "    rob_y = np.append(rob_y, np.linspace(start[1], end[1], number_of_steps).astype(np.int64))"
   ]
  },
  {
   "cell_type": "markdown",
   "metadata": {},
   "source": [
    "Path is ready. We want know how many pedestrians' paths robot will cross. "
   ]
  },
  {
   "cell_type": "code",
   "execution_count": 33,
   "metadata": {
    "collapsed": true
   },
   "outputs": [],
   "source": [
    "def find_by_point(time, x, y):\n",
    "    indices = np.arange(NUMBER_OF_PEDESTRIANS)\n",
    "        \n",
    "    path = np.array([time, x, y])\n",
    "        \n",
    "    for i in indices:\n",
    "        df = download_pedestrian(i, True)\n",
    "        df.insert(0, 'index', df.index)\n",
    "        \n",
    "        data = np.array(df)\n",
    "        \n",
    "        ind = np.where(np.all(data == path, axis=1))[0]\n",
    "        \n",
    "        if len(ind) > 0:\n",
    "            return (i, df.index.values[ind[0]])\n",
    "        \n",
    "    return (-1, -1)"
   ]
  },
  {
   "cell_type": "code",
   "execution_count": 52,
   "metadata": {
    "collapsed": false
   },
   "outputs": [
    {
     "name": "stdout",
     "output_type": "stream",
     "text": [
      "0 39380 553 63 3369\n",
      "2 39388 567 126 3361\n",
      "3 39392 574 157 3360\n"
     ]
    }
   ],
   "source": [
    "answer = 0\n",
    "\n",
    "for i, time in enumerate(rob_time):\n",
    "    x = rob_x[i]\n",
    "    y = rob_y[i]\n",
    "    r = 10\n",
    "    indices = np.where(ped_time == time)\n",
    "    x_in_time = ped_x[indices]\n",
    "    y_in_time = ped_y[indices]\n",
    "    \n",
    "    intersect = np.where((x_in_time > x-r)*(x_in_time < x+r)*(y_in_time > y-r)*(y_in_time < y+r))[0]\n",
    "    answer += intersect.size\n",
    "    \n",
    "    if intersect.size > 0:\n",
    "        ped_index = find_by_point(time, x_in_time[intersect[0]], y_in_time[intersect[0]])\n",
    "        print(i, time, x, y, ped_index[0])"
   ]
  },
  {
   "cell_type": "code",
   "execution_count": 53,
   "metadata": {
    "collapsed": false
   },
   "outputs": [
    {
     "data": {
      "text/plain": [
       "3"
      ]
     },
     "execution_count": 53,
     "metadata": {},
     "output_type": "execute_result"
    }
   ],
   "source": [
    "answer"
   ]
  },
  {
   "cell_type": "code",
   "execution_count": 55,
   "metadata": {
    "collapsed": true
   },
   "outputs": [],
   "source": [
    "ped1 = np.array(download_pedestrian(3369))\n",
    "ped2 = np.array(download_pedestrian(3361))\n",
    "ped3 = np.array(download_pedestrian(3360))\n",
    "rob = np.array([rob_x, rob_y]).T\n",
    "\n",
    "draw_lines(39500, [rob, ped1, ped2, ped3], ['green', 'red', 'blue', 'yellow'], 'img')"
   ]
  },
  {
   "cell_type": "code",
   "execution_count": null,
   "metadata": {
    "collapsed": true
   },
   "outputs": [],
   "source": []
  }
 ],
 "metadata": {
  "kernelspec": {
   "display_name": "Python 3",
   "language": "python",
   "name": "python3"
  },
  "language_info": {
   "codemirror_mode": {
    "name": "ipython",
    "version": 3
   },
   "file_extension": ".py",
   "mimetype": "text/x-python",
   "name": "python",
   "nbconvert_exporter": "python",
   "pygments_lexer": "ipython3",
   "version": "3.5.1"
  }
 },
 "nbformat": 4,
 "nbformat_minor": 0
}
