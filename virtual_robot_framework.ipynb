{
 "cells": [
  {
   "cell_type": "code",
   "execution_count": 1,
   "metadata": {
    "collapsed": false
   },
   "outputs": [],
   "source": [
    "import matplotlib\n",
    "matplotlib.use('Agg')\n",
    "import matplotlib.pyplot as plt\n",
    "from matplotlib import animation, rc\n",
    "import numpy as np\n",
    "from IPython.display import HTML\n",
    "from utils import *\n",
    "from d_star.d_star import DStar\n",
    "import multiprocessing\n",
    "from tqdm import tqdm\n",
    "\n",
    "np.random.seed(0)\n",
    "%matplotlib inline"
   ]
  },
  {
   "cell_type": "markdown",
   "metadata": {},
   "source": [
    "Pedestrians' average speed: 35 by x-coordinate and 30 by y-coordinate.\n",
    "\n",
    "So let's assume pedestrian takes the whole 30x30 block. That minimize our 1920x1080 field to 64x36 on which we will be calculate robot's path"
   ]
  },
  {
   "cell_type": "code",
   "execution_count": 2,
   "metadata": {
    "collapsed": true
   },
   "outputs": [],
   "source": [
    "STEP = 30"
   ]
  },
  {
   "cell_type": "code",
   "execution_count": 3,
   "metadata": {
    "collapsed": true
   },
   "outputs": [],
   "source": [
    "paths = np.load('src/all_not_ext_paths_with_ids.npy')\n",
    "ped_time = (paths[:, 1] / 20).astype(int)\n",
    "ped_col = (paths[:, 2] / STEP).astype(int)\n",
    "ped_row = (paths[:, 3] / STEP).astype(int)"
   ]
  },
  {
   "cell_type": "code",
   "execution_count": 4,
   "metadata": {
    "collapsed": true
   },
   "outputs": [],
   "source": [
    "obs = Image.open('src/Images/obstacles.png')\n",
    "obs = (~np.array(obs).sum(axis=2).astype(bool)).astype(int)\n",
    "\n",
    "grid = np.zeros((int(FRAME_HEIGHT / STEP), int(FRAME_WIDTH / STEP)), dtype=int)\n",
    "\n",
    "for i in range(grid.shape[0]):\n",
    "    for j in range(grid.shape[1]):\n",
    "        x1, x2 = i * STEP, (i + 1) * STEP\n",
    "        y1, y2 = j * STEP, (j + 1) * STEP\n",
    "        if obs[x1 : x2, y1 : y2].sum() > STEP * STEP / 2:\n",
    "            grid[i, j] = 1"
   ]
  },
  {
   "cell_type": "code",
   "execution_count": 5,
   "metadata": {
    "collapsed": true
   },
   "outputs": [],
   "source": [
    "def check_path(start_time, row_start, col_start, row_goal, col_goal):\n",
    "    assert 0 <= row_start < FRAME_HEIGHT / STEP\n",
    "    assert 0 <= col_start < FRAME_WIDTH / STEP\n",
    "    assert 0 <= row_goal < FRAME_HEIGHT / STEP\n",
    "    assert 0 <= col_goal < FRAME_WIDTH / STEP\n",
    "    assert 0 <= start_time <= 6000\n",
    "    \n",
    "    assert grid[row_start, col_start] == 0\n",
    "    assert grid[row_goal, col_goal] == 0\n",
    "\n",
    "    t = ped_time == start_time\n",
    "    ped_row_time = ped_row[t]\n",
    "    ped_col_time = ped_col[t]\n",
    "    ind = (ped_row_time == row_start) * (ped_col_time == row_goal)\n",
    "    assert not ind.any()"
   ]
  },
  {
   "cell_type": "code",
   "execution_count": 6,
   "metadata": {
    "collapsed": true
   },
   "outputs": [],
   "source": [
    "class Robot:\n",
    "    def __init__(self, grid, ped_time, ped_col, ped_row, score=1):\n",
    "        self.grid = grid\n",
    "        self.ped_time = ped_time\n",
    "        self.ped_col = ped_col\n",
    "        self.ped_row = ped_row\n",
    "#         self.trace = []\n",
    "        self.collisions = 0\n",
    "        self.set_score(score)\n",
    "        self.obstacles = []\n",
    "        \n",
    "    def get_grid(self, time, row, col):\n",
    "        t = self.ped_time == time\n",
    "        ped_row_time = self.ped_row[t]\n",
    "        ped_col_time = self.ped_col[t]\n",
    "\n",
    "        im = Image.open(get_framename(time * 20))\n",
    "\n",
    "        draw = ImageDraw.Draw(im)\n",
    "        for i in range(int(FRAME_HEIGHT / STEP)):\n",
    "            for j in range(int(FRAME_WIDTH / STEP)):\n",
    "                if self.grid[i,j] == 1:\n",
    "                    continue\n",
    "                ind = (ped_row_time == i) * (ped_col_time == j)\n",
    "                if ind.any():\n",
    "                    row1, row2 = i * STEP, (i + 1) * STEP\n",
    "                    col1, col2 = j * STEP, (j + 1) * STEP\n",
    "                    draw.rectangle((col1+1, row1+1, col2, row2), fill='blue')\n",
    "\n",
    "        row1, row2 = row * STEP, (row + 1) * STEP\n",
    "        col1, col2 = col * STEP, (col + 1) * STEP\n",
    "        draw.rectangle((col1+1, row1+1, col2, row2), fill='red')\n",
    "\n",
    "        return im\n",
    "    \n",
    "    def neighbor_cells(self, i, j, r):\n",
    "        res = [(x, j-r) for x in range(i-r, i+r+1)]\n",
    "        res += [(x, j+r) for x in range(i-r, i+r+1)]\n",
    "        res += [(i-r, y) for y in range(j-r+1, j+r)]\n",
    "        res += [(i+r, y) for y in range(j-r+1, j+r)]\n",
    "        return res\n",
    "    \n",
    "    def check_cell(self, time, row, col):\n",
    "        t = self.ped_time == time\n",
    "        ped_row_time = self.ped_row[t]\n",
    "        ped_col_time = self.ped_col[t]\n",
    "        ind = (ped_row_time == row) * (ped_col_time == col)\n",
    "        return ind.any()\n",
    "\n",
    "    def plan_path(self, start_time, row_start, col_start, row_goal, col_goal):\n",
    "        self.pf = DStar(row_start, col_start, row_goal, col_goal)\n",
    "\n",
    "        for i, row in enumerate(self.grid):\n",
    "            for j, cell in enumerate(row):\n",
    "                if cell == 1:\n",
    "                    self.pf.update_cell(i, j, -1)\n",
    "\n",
    "        self.update_obstacles(start_time, row_start, col_start)\n",
    "        for i, j in self.obstacles:\n",
    "                self.pf.update_cell(int(i), int(j), -1)\n",
    "\n",
    "        self.pf.replan()\n",
    "        \n",
    "    def get_path(self, start_time, row_start, col_start, row_goal, col_goal):\n",
    "#         self.trace = []\n",
    "        self.collisions = 0\n",
    "        self.obstacles = []\n",
    "        \n",
    "        self.plan_path(start_time, row_start, col_start, row_goal, col_goal)\n",
    "\n",
    "        time = start_time\n",
    "        row_cur, col_cur = row_start, col_start\n",
    "\n",
    "        while row_cur != row_goal or col_cur != col_goal:\n",
    "#             self.trace.append(self.get_grid(time, row_cur, col_cur))\n",
    "            \n",
    "            if self.check_cell(time, row_cur, col_cur):\n",
    "                self.collisions += 1\n",
    "            \n",
    "            for i, j in self.obstacles:\n",
    "                self.pf.update_cell(int(i), int(j), 0)\n",
    "            self.obstacles = []\n",
    "\n",
    "            self.pf.update_start(row_cur, col_cur)\n",
    "            self.update_obstacles(time, row_cur, col_cur)\n",
    "            for i, j in self.obstacles:\n",
    "                self.pf.update_cell(int(i), int(j), -1)\n",
    "    \n",
    "            if not self.pf.replan():\n",
    "                self.plan_path(time, row_cur, col_cur, row_goal, col_goal)\n",
    "                \n",
    "            row_cur, col_cur = self.pf.get_path()[1].x, self.pf.get_path()[1].y\n",
    "                \n",
    "            time += 1\n",
    "            \n",
    "        return time - start_time\n",
    "            \n",
    "#         self.trace.append(self.get_grid(time, row_cur, col_cur))"
   ]
  },
  {
   "cell_type": "code",
   "execution_count": null,
   "metadata": {
    "collapsed": true
   },
   "outputs": [],
   "source": [
    "class DummyRobot(Robot):\n",
    "    \n",
    "    def set_score(self, score):\n",
    "        self.score = 1\n",
    "    \n",
    "    def update_obstacles(self, time, row, col):\n",
    "        self.obstacles = []\n",
    "        t = self.ped_time == time\n",
    "        ped_row_time = self.ped_row[t]\n",
    "        ped_col_time = self.ped_col[t]\n",
    "\n",
    "        for i, j in self.neighbor_cells(row, col, 1):\n",
    "            ind = (ped_row_time == i) * (ped_col_time == j)\n",
    "            if ind.any():\n",
    "                self.obstacles.append((i, j))\n",
    "                for x, y in self.neighbor_cells(i, j, 1):\n",
    "                    self.obstacles.append((x, y))\n",
    "        \n",
    "        possible_pedestrians = self.neighbor_cells(row, col, 2)\n",
    "        bad_cells = []\n",
    "        for i, j in possible_pedestrians:\n",
    "            ind = (ped_row_time == i) * (ped_col_time == j)\n",
    "            if ind.any():\n",
    "                bad_cells += self.neighbor_cells(i, j, 1)\n",
    "        \n",
    "        for i, j in self.neighbor_cells(row, col, 1):\n",
    "            if (i, j) in bad_cells:\n",
    "                self.obstacles.append((i, j))"
   ]
  },
  {
   "cell_type": "code",
   "execution_count": null,
   "metadata": {
    "collapsed": true
   },
   "outputs": [],
   "source": [
    "class BullyRobot(Robot):\n",
    "    \n",
    "    def set_score(self, score):\n",
    "        self.score = score\n",
    "\n",
    "    def update_obstacles(self, time, row, col):\n",
    "        self.obstacles = []\n",
    "        for r in range(2):\n",
    "            t = self.ped_time == time + r\n",
    "            ped_row_time = self.ped_row[t]\n",
    "            ped_col_time = self.ped_col[t]\n",
    "\n",
    "            for i, j in self.neighbor_cells(row, col, 1):\n",
    "                if r == 1 and np.random.rand() > self.score:\n",
    "                    continue\n",
    "                ind = (ped_row_time == i) * (ped_col_time == j)\n",
    "                if ind.any():\n",
    "                    self.obstacles.append((i, j))"
   ]
  },
  {
   "cell_type": "code",
   "execution_count": null,
   "metadata": {
    "collapsed": true
   },
   "outputs": [],
   "source": [
    "class CuddlyRobot(BullyRobot):\n",
    "    \n",
    "    def set_score(self, score):\n",
    "        self.score = 1"
   ]
  },
  {
   "cell_type": "code",
   "execution_count": null,
   "metadata": {
    "collapsed": true
   },
   "outputs": [],
   "source": [
    "%%capture\n",
    "\n",
    "def get_animation(trace):\n",
    "    fig = plt.figure(figsize=(12, 7))\n",
    "    ax = fig.add_subplot(111)\n",
    "    ax.set_axis_off()\n",
    "    fig.subplots_adjust(left=0, bottom=0, right=1, top=1, wspace=None, hspace=None)  # removes white border\n",
    "    imgs = [(ax.imshow(img), ax.annotate('',(5,5))) for img in trace] \n",
    "\n",
    "    return animation.ArtistAnimation(fig, imgs, interval=200, repeat_delay=2000, blit=False)"
   ]
  },
  {
   "cell_type": "code",
   "execution_count": null,
   "metadata": {
    "collapsed": true
   },
   "outputs": [],
   "source": [
    "dummy = DummyRobot(grid, ped_time, ped_col, ped_row)\n",
    "cuddly = CuddlyRobot(grid, ped_time, ped_col, ped_row)\n",
    "bully = BullyRobot(grid, ped_time, ped_col, ped_row, score=0)"
   ]
  },
  {
   "cell_type": "code",
   "execution_count": null,
   "metadata": {
    "collapsed": true
   },
   "outputs": [],
   "source": [
    "robot = cuddly"
   ]
  },
  {
   "cell_type": "code",
   "execution_count": null,
   "metadata": {
    "collapsed": true
   },
   "outputs": [],
   "source": [
    "gen_paths = np.load('src/gen_paths.npy')"
   ]
  },
  {
   "cell_type": "code",
   "execution_count": null,
   "metadata": {
    "collapsed": true
   },
   "outputs": [],
   "source": [
    "np.save('src/gen_paths.npy', gen_paths)"
   ]
  },
  {
   "cell_type": "code",
   "execution_count": null,
   "metadata": {
    "collapsed": false
   },
   "outputs": [],
   "source": [
    "gen_paths = np.delete(gen_paths, 154, 0)"
   ]
  },
  {
   "cell_type": "code",
   "execution_count": null,
   "metadata": {
    "collapsed": false
   },
   "outputs": [],
   "source": [
    "path_time = []\n",
    "collisions = []\n",
    "\n",
    "for start_time, row_start, col_start, row_goal, col_goal, opt_time in tqdm(gen_paths):\n",
    "    path_time.append(robot.get_path(int(start_time), int(row_start), int(col_start), int(row_goal), int(col_goal)))\n",
    "    collisions.append(robot.collisions)"
   ]
  },
  {
   "cell_type": "code",
   "execution_count": null,
   "metadata": {
    "collapsed": false
   },
   "outputs": [],
   "source": [
    "dummy.get_path(388, 5, 38, 17, 15)"
   ]
  },
  {
   "cell_type": "code",
   "execution_count": null,
   "metadata": {
    "collapsed": true
   },
   "outputs": [],
   "source": [
    "%%capture\n",
    "anim = get_animation(dummy.trace)"
   ]
  },
  {
   "cell_type": "code",
   "execution_count": null,
   "metadata": {
    "collapsed": false
   },
   "outputs": [],
   "source": [
    "rc('animation', html='html5')\n",
    "anim"
   ]
  },
  {
   "cell_type": "code",
   "execution_count": null,
   "metadata": {
    "collapsed": true
   },
   "outputs": [],
   "source": [
    "anim.save('src/Images/anim.gif', writer='imagemagick', fps=5)"
   ]
  },
  {
   "cell_type": "code",
   "execution_count": null,
   "metadata": {
    "collapsed": true
   },
   "outputs": [],
   "source": []
  }
 ],
 "metadata": {
  "anaconda-cloud": {},
  "kernelspec": {
   "display_name": "Python [default]",
   "language": "python",
   "name": "python3"
  },
  "language_info": {
   "codemirror_mode": {
    "name": "ipython",
    "version": 3
   },
   "file_extension": ".py",
   "mimetype": "text/x-python",
   "name": "python",
   "nbconvert_exporter": "python",
   "pygments_lexer": "ipython3",
   "version": "3.5.2"
  }
 },
 "nbformat": 4,
 "nbformat_minor": 1
}
