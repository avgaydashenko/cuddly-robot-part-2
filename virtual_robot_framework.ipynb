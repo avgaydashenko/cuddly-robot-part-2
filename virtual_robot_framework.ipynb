{
 "cells": [
  {
   "cell_type": "code",
   "execution_count": 1,
   "metadata": {
    "collapsed": false
   },
   "outputs": [
    {
     "name": "stdout",
     "output_type": "stream",
     "text": [
      "34 4\n",
      "33 5\n",
      "32 6\n",
      "31 7\n",
      "30 8\n",
      "30 9\n",
      "30 10\n",
      "29 11\n",
      "29 12\n",
      "28 13\n",
      "28 14\n",
      "27 15\n",
      "27 16\n",
      "13\n",
      "[[1 0 0 0 0 0 0 0 0 0 0 0 0 0 0 0 0]\n",
      " [1 0 0 0 0 0 0 0 0 0 0 0 0 0 0 0 0]\n",
      " [0 0 0 0 0 0 0 0 0 0 0 7 7 0 0 0 0]\n",
      " [0 0 0 0 0 0 0 0 0 7 7 0 0 0 0 0 0]\n",
      " [0 0 0 0 0 0 0 7 7 0 0 0 0 0 0 0 0]\n",
      " [0 0 0 0 7 7 7 0 0 0 0 0 0 0 0 0 0]\n",
      " [0 0 0 7 0 0 0 0 0 0 0 0 0 0 0 0 0]\n",
      " [0 0 7 0 0 0 0 0 0 0 0 0 0 0 0 0 0]\n",
      " [0 7 0 0 0 0 0 0 0 0 0 0 0 0 0 0 0]\n",
      " [7 0 0 0 0 0 0 0 0 0 0 0 0 0 0 0 0]]\n"
     ]
    }
   ],
   "source": [
    "import numpy as np\n",
    "from PIL import Image\n",
    "from d_star.d_star import DStar\n",
    "\n",
    "np.random.seed(0)\n",
    "\n",
    "STEP = 30\n",
    "\n",
    "paths = np.load('src/all_paths.npy')\n",
    "paths[:, 0] = paths[:, 0] / 4\n",
    "paths[:, 1] = paths[:, 1] / STEP\n",
    "paths[:, 2] = paths[:, 2] / STEP\n",
    "\n",
    "ped_time = paths[:,0]\n",
    "ped_x = paths[:,1]\n",
    "ped_y = paths[:,2]\n",
    "\n",
    "obs = Image.open('src/Images/obstacles.png')\n",
    "obs = (~np.array(obs).sum(axis=2).astype(bool)).astype(int)\n",
    "\n",
    "grid = np.zeros((int(1080 / STEP), int(1920 / STEP)), dtype=int)\n",
    "\n",
    "for i in range(grid.shape[0]):\n",
    "    for j in range(grid.shape[1]):\n",
    "        x1, x2 = i * STEP, (i + 1) * STEP\n",
    "        y1, y2 = j * STEP, (j + 1) * STEP\n",
    "        if obs[x1 : x2, y1 : y2].sum() > STEP * STEP / 2:\n",
    "            grid[i, j] = 1\n",
    "\n",
    "x_start = 34 # from 0 to 35\n",
    "y_start = 4 # from 0 to 63\n",
    "x_goal = 25 # from 0 to 35\n",
    "y_goal = 20 # from 0 to 63\n",
    "start_time = 0 # from 0 to 30000\n",
    "\n",
    "\n",
    "def update_cells(pf, x, y, time, block):\n",
    "    t = ped_time == time\n",
    "    ped_x_time = ped_x[t]\n",
    "    ped_y_time = ped_y[t]\n",
    "    ind_x = (ped_x_time >= x - 1) * (ped_x_time <= x + 1)\n",
    "    ind_y = (ped_y_time >= y - 1) * (ped_y_time <= y + 1)\n",
    "    ind = ind_x * ind_y\n",
    "\n",
    "    for i, j in zip(ped_x_time[ind], ped_y_time[ind]):\n",
    "        pf.update_cell(int(i), int(j), -1 if block else 0)\n",
    "\n",
    "\n",
    "tmp = grid.copy()\n",
    "pf = DStar(x_start, y_start, x_goal, y_goal)\n",
    "\n",
    "for i, row in enumerate(grid):\n",
    "    for j, cell in enumerate(row):\n",
    "        if cell == 1:\n",
    "            pf.update_cell(i, j, -1)\n",
    "\n",
    "pf.replan()\n",
    "\n",
    "time = start_time\n",
    "\n",
    "x_cur, y_cur = x_start, y_start\n",
    "\n",
    "while x_cur != x_goal or y_cur != y_goal:\n",
    "    time += 1\n",
    "\n",
    "    pf.update_start(x_cur, y_cur)\n",
    "    tmp[x_cur, y_cur] = 7\n",
    "\n",
    "    update_cells(pf, x_cur, y_cur, time, block=True)\n",
    "    print(x_cur, y_cur)\n",
    "\n",
    "    if not pf.replan():\n",
    "        break\n",
    "\n",
    "    x_prev, y_prev = x_cur, y_cur\n",
    "    x_cur, y_cur = pf.get_path()[1].x, pf.get_path()[1].y\n",
    "\n",
    "    update_cells(pf, x_prev, y_prev, time, block=False)\n",
    "\n",
    "print(time - start_time)\n",
    "\n",
    "print(tmp[x_goal:x_start+1, y_start:y_goal+1])"
   ]
  },
  {
   "cell_type": "code",
   "execution_count": 1,
   "metadata": {
    "collapsed": true
   },
   "outputs": [],
   "source": [
    "from utils import *\n",
    "np.random.seed(0)"
   ]
  },
  {
   "cell_type": "markdown",
   "metadata": {},
   "source": [
    "Pedestrians' average speed: 35 by x-coordinate and 30 by y-coordinate.\n",
    "\n",
    "So let's assume pedestrian(s) takes the whole 30x30 block. That minimize our 1920x1080 field to 64x36 on which we will be calculate robot's path"
   ]
  },
  {
   "cell_type": "code",
   "execution_count": 2,
   "metadata": {
    "collapsed": true
   },
   "outputs": [],
   "source": [
    "STEP = 30"
   ]
  },
  {
   "cell_type": "code",
   "execution_count": 3,
   "metadata": {
    "collapsed": false
   },
   "outputs": [],
   "source": [
    "paths = np.load('src/all_paths.npy')\n",
    "paths[:, 0] = paths[:, 0] / 4\n",
    "paths[:, 1] = paths[:, 1] / STEP\n",
    "paths[:, 2] = paths[:, 2] / STEP\n",
    "\n",
    "ped_time = paths[:,0]\n",
    "ped_x = paths[:,1]\n",
    "ped_y = paths[:,2]"
   ]
  },
  {
   "cell_type": "code",
   "execution_count": 4,
   "metadata": {
    "collapsed": false
   },
   "outputs": [],
   "source": [
    "obs = Image.open('src/Images/obstacles.png')\n",
    "obs = (~np.array(obs).sum(axis=2).astype(bool)).astype(int)\n",
    "\n",
    "grid = np.zeros((int(FRAME_HEIGHT / STEP), int(FRAME_WIDTH / STEP)), dtype=int)\n",
    "\n",
    "for i in range(grid.shape[0]):\n",
    "    for j in range(grid.shape[1]):\n",
    "        x1, x2 = i * STEP, (i + 1) * STEP\n",
    "        y1, y2 = j * STEP, (j + 1) * STEP\n",
    "        if obs[x1 : x2, y1 : y2].sum() > STEP * STEP / 2:\n",
    "            grid[i, j] = 1"
   ]
  },
  {
   "cell_type": "code",
   "execution_count": 5,
   "metadata": {
    "collapsed": false
   },
   "outputs": [],
   "source": [
    "x_start = 34 # from 0 to 35\n",
    "y_start = 4 # from 0 to 63\n",
    "x_goal = 25 # from 0 to 35\n",
    "y_goal = 20 # from 0 to 63\n",
    "start_time = 0 # from 0 to 30000\n",
    "\n",
    "assert grid[x_start, y_start] == 0\n",
    "assert grid[x_goal, y_goal] == 0"
   ]
  },
  {
   "cell_type": "code",
   "execution_count": 6,
   "metadata": {
    "collapsed": false
   },
   "outputs": [
    {
     "data": {
      "text/plain": [
       "50"
      ]
     },
     "execution_count": 6,
     "metadata": {},
     "output_type": "execute_result"
    }
   ],
   "source": [
    "# dummy robot\n",
    "x_dir = np.sign(x_goal - x_start)\n",
    "y_dir = np.sign(y_goal - y_start)\n",
    "\n",
    "time = start_time\n",
    "\n",
    "x_cur, y_cur = x_start, y_start\n",
    "\n",
    "while x_cur != x_goal or y_cur != y_goal:\n",
    "    time += 1\n",
    "    if x_cur != x_goal:\n",
    "        x_next = x_cur + x_dir\n",
    "    if y_cur != y_goal:\n",
    "        y_next = y_cur + y_dir\n",
    "    \n",
    "    if ((ped_x[ped_time == time] == x_next) * (ped_y[ped_time == time] == y_next)).any():\n",
    "        continue\n",
    "    \n",
    "    x_cur, y_cur = x_next, y_next\n",
    "    \n",
    "time - start_time"
   ]
  },
  {
   "cell_type": "code",
   "execution_count": 7,
   "metadata": {
    "collapsed": false
   },
   "outputs": [],
   "source": [
    "def update_cells(pf, x, y, time, block):\n",
    "    t = ped_time == time\n",
    "    ped_x_time = ped_x[t]\n",
    "    ped_y_time = ped_y[t]\n",
    "    ind_x = (ped_x_time >= x - 1) * (ped_x_time <= x + 1)\n",
    "    ind_y = (ped_y_time >= y - 1) * (ped_y_time <= y + 1)\n",
    "    ind = ind_x * ind_y\n",
    "    \n",
    "    for i, j in zip(ped_x_time[ind], ped_y_time[ind]):\n",
    "        tmp[i,j] = 1 if block else 0\n",
    "        pf.update_cell(int(i), int(j), -1 if block else 0)"
   ]
  },
  {
   "cell_type": "code",
   "execution_count": 10,
   "metadata": {
    "collapsed": false
   },
   "outputs": [
    {
     "data": {
      "text/plain": [
       "array([[1, 1, 0, 0, 0, 0, 0, 0, 0, 0, 0, 0, 0, 0, 0, 0, 0, 0, 0, 0, 0],\n",
       "       [1, 1, 0, 0, 0, 0, 0, 0, 0, 0, 0, 0, 0, 0, 0, 0, 0, 0, 0, 0, 0],\n",
       "       [1, 1, 1, 0, 0, 0, 0, 0, 0, 0, 0, 0, 0, 0, 0, 0, 0, 0, 0, 0, 0],\n",
       "       [1, 1, 1, 0, 0, 0, 0, 0, 0, 0, 0, 0, 0, 0, 0, 0, 7, 7, 0, 0, 0],\n",
       "       [1, 1, 0, 0, 0, 0, 0, 0, 0, 0, 0, 0, 0, 7, 7, 7, 0, 0, 0, 0, 0],\n",
       "       [1, 1, 0, 0, 0, 0, 0, 0, 0, 0, 0, 7, 7, 0, 0, 0, 0, 0, 0, 0, 0],\n",
       "       [1, 1, 0, 0, 0, 0, 0, 0, 0, 7, 7, 0, 0, 0, 0, 0, 0, 0, 0, 0, 0],\n",
       "       [1, 1, 0, 0, 0, 0, 7, 7, 7, 0, 0, 0, 0, 0, 0, 0, 0, 0, 0, 0, 0],\n",
       "       [1, 0, 0, 0, 0, 7, 0, 0, 0, 0, 0, 0, 0, 0, 0, 0, 0, 0, 0, 0, 0],\n",
       "       [0, 0, 0, 0, 7, 0, 0, 0, 0, 0, 0, 0, 0, 0, 0, 0, 0, 0, 0, 0, 0],\n",
       "       [0, 0, 0, 7, 0, 0, 0, 0, 0, 0, 0, 0, 0, 0, 0, 0, 0, 0, 0, 0, 0],\n",
       "       [0, 0, 7, 0, 0, 0, 0, 0, 0, 0, 0, 0, 0, 0, 0, 0, 0, 0, 0, 0, 0],\n",
       "       [0, 0, 0, 0, 0, 0, 0, 0, 0, 0, 0, 0, 0, 0, 0, 0, 0, 0, 0, 0, 0]])"
      ]
     },
     "execution_count": 10,
     "metadata": {},
     "output_type": "execute_result"
    }
   ],
   "source": [
    "tmp[x_goal-2 : , y_start - 2 : y_goal+3]"
   ]
  },
  {
   "cell_type": "code",
   "execution_count": 9,
   "metadata": {
    "collapsed": false
   },
   "outputs": [
    {
     "name": "stdout",
     "output_type": "stream",
     "text": [
      "34 4\n",
      "33 5\n",
      "32 6\n",
      "31 7\n",
      "30 8\n",
      "30 9\n",
      "30 10\n",
      "29 11\n",
      "29 12\n",
      "28 13\n",
      "28 14\n",
      "27 15\n",
      "27 16\n",
      "27 17\n",
      "26 18\n",
      "26 19\n"
     ]
    },
    {
     "data": {
      "text/plain": [
       "16"
      ]
     },
     "execution_count": 9,
     "metadata": {},
     "output_type": "execute_result"
    }
   ],
   "source": [
    "from d_star.d_star import DStar\n",
    "\n",
    "tmp = grid.copy()\n",
    "pf = DStar(x_start, y_start, x_goal, y_goal)\n",
    "\n",
    "# for i, row in enumerate(grid):\n",
    "#     for j, cell in enumerate(row):\n",
    "#         if cell == 1:\n",
    "#             pf.update_cell(i, j, -1)\n",
    "            \n",
    "pf.replan()\n",
    "\n",
    "\n",
    "time = start_time\n",
    "\n",
    "x_cur, y_cur = x_start, y_start\n",
    "\n",
    "while x_cur != x_goal or y_cur != y_goal:\n",
    "    time += 1\n",
    "    \n",
    "    pf.update_start(x_cur, y_cur)\n",
    "    tmp[x_cur, y_cur] = 7\n",
    "    \n",
    "    update_cells(pf, x_cur, y_cur, time, block=True)\n",
    "    print(x_cur, y_cur)\n",
    "    \n",
    "#     print(pf.get_path())\n",
    "\n",
    "    if not pf.replan():\n",
    "        break\n",
    "    \n",
    "    x_prev, y_prev = x_cur, y_cur\n",
    "    x_cur, y_cur = pf.get_path()[1].x, pf.get_path()[1].y\n",
    "    \n",
    "    update_cells(pf, x_prev, y_prev, time, block=False)\n",
    "    \n",
    "time - start_time"
   ]
  },
  {
   "cell_type": "code",
   "execution_count": null,
   "metadata": {
    "collapsed": true
   },
   "outputs": [],
   "source": []
  }
 ],
 "metadata": {
  "anaconda-cloud": {},
  "kernelspec": {
   "display_name": "Python [default]",
   "language": "python",
   "name": "python3"
  },
  "language_info": {
   "codemirror_mode": {
    "name": "ipython",
    "version": 3
   },
   "file_extension": ".py",
   "mimetype": "text/x-python",
   "name": "python",
   "nbconvert_exporter": "python",
   "pygments_lexer": "ipython3",
   "version": "3.5.2"
  }
 },
 "nbformat": 4,
 "nbformat_minor": 0
}
