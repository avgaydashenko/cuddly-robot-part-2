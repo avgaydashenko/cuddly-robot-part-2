{
 "cells": [
  {
   "cell_type": "code",
   "execution_count": 1,
   "metadata": {
    "collapsed": true
   },
   "outputs": [],
   "source": [
    "import numpy as np"
   ]
  },
  {
   "cell_type": "code",
   "execution_count": 2,
   "metadata": {
    "collapsed": true
   },
   "outputs": [],
   "source": [
    "import torch\n",
    "from torch.autograd import Variable\n",
    "from torch.nn import Parameter\n",
    "import torch.nn as nn\n",
    "import torch.nn.functional as F"
   ]
  },
  {
   "cell_type": "code",
   "execution_count": 3,
   "metadata": {
    "collapsed": true
   },
   "outputs": [],
   "source": [
    "class Net(nn.Module):\n",
    "\n",
    "    def __init__(self):\n",
    "        super(Net, self).__init__()\n",
    "        self.bias = Parameter(torch.rand(20))\n",
    "\n",
    "    def forward(self, x):\n",
    "        x = x + self.bias.unsqueeze(0).expand_as(x)\n",
    "        return x\n",
    "\n",
    "model = Net()\n",
    "model = model.double()"
   ]
  },
  {
   "cell_type": "code",
   "execution_count": 4,
   "metadata": {
    "collapsed": true
   },
   "outputs": [],
   "source": [
    "criterion = nn.MSELoss()"
   ]
  },
  {
   "cell_type": "code",
   "execution_count": 109,
   "metadata": {
    "collapsed": true
   },
   "outputs": [],
   "source": [
    "model.zero_grad()"
   ]
  },
  {
   "cell_type": "code",
   "execution_count": 6,
   "metadata": {
    "collapsed": true
   },
   "outputs": [],
   "source": [
    "input = Variable(torch.from_numpy(np.ones((5,20))))"
   ]
  },
  {
   "cell_type": "code",
   "execution_count": 7,
   "metadata": {
    "collapsed": true
   },
   "outputs": [],
   "source": [
    "target = Variable(torch.from_numpy(np.ones((5,20))*5))"
   ]
  },
  {
   "cell_type": "code",
   "execution_count": 166,
   "metadata": {
    "collapsed": false
   },
   "outputs": [],
   "source": [
    "output = model(input)"
   ]
  },
  {
   "cell_type": "code",
   "execution_count": 167,
   "metadata": {
    "collapsed": true
   },
   "outputs": [],
   "source": [
    "loss = criterion(output, target)"
   ]
  },
  {
   "cell_type": "code",
   "execution_count": 168,
   "metadata": {
    "collapsed": true
   },
   "outputs": [],
   "source": [
    "loss.backward()"
   ]
  },
  {
   "cell_type": "code",
   "execution_count": 169,
   "metadata": {
    "collapsed": false
   },
   "outputs": [
    {
     "data": {
      "text/plain": [
       "Variable containing:\n",
       "1.00000e-02 *\n",
       "  9.5906\n",
       "[torch.DoubleTensor of size 1]"
      ]
     },
     "execution_count": 169,
     "metadata": {},
     "output_type": "execute_result"
    }
   ],
   "source": [
    "loss"
   ]
  },
  {
   "cell_type": "code",
   "execution_count": 170,
   "metadata": {
    "collapsed": false
   },
   "outputs": [],
   "source": [
    "for param in model.parameters():\n",
    "    param.data.add_(-0.1 * param.grad.data)"
   ]
  },
  {
   "cell_type": "code",
   "execution_count": 171,
   "metadata": {
    "collapsed": false
   },
   "outputs": [
    {
     "data": {
      "text/plain": [
       "Variable containing:\n",
       "\n",
       "Columns 0 to 9 \n",
       " 5.2818  5.2802  5.2828  5.2741  5.3160  5.2690  5.3442  5.3261  5.3492  5.3404\n",
       " 5.2818  5.2802  5.2828  5.2741  5.3160  5.2690  5.3442  5.3261  5.3492  5.3404\n",
       " 5.2818  5.2802  5.2828  5.2741  5.3160  5.2690  5.3442  5.3261  5.3492  5.3404\n",
       " 5.2818  5.2802  5.2828  5.2741  5.3160  5.2690  5.3442  5.3261  5.3492  5.3404\n",
       " 5.2818  5.2802  5.2828  5.2741  5.3160  5.2690  5.3442  5.3261  5.3492  5.3404\n",
       "\n",
       "Columns 10 to 19 \n",
       " 5.2907  5.3392  5.2849  5.2709  5.3086  5.3450  5.2892  5.3337  5.3087  5.3341\n",
       " 5.2907  5.3392  5.2849  5.2709  5.3086  5.3450  5.2892  5.3337  5.3087  5.3341\n",
       " 5.2907  5.3392  5.2849  5.2709  5.3086  5.3450  5.2892  5.3337  5.3087  5.3341\n",
       " 5.2907  5.3392  5.2849  5.2709  5.3086  5.3450  5.2892  5.3337  5.3087  5.3341\n",
       " 5.2907  5.3392  5.2849  5.2709  5.3086  5.3450  5.2892  5.3337  5.3087  5.3341\n",
       "[torch.DoubleTensor of size 5x20]"
      ]
     },
     "execution_count": 171,
     "metadata": {},
     "output_type": "execute_result"
    }
   ],
   "source": [
    "output"
   ]
  },
  {
   "cell_type": "code",
   "execution_count": 172,
   "metadata": {
    "collapsed": false
   },
   "outputs": [
    {
     "data": {
      "text/plain": [
       "[Parameter containing:\n",
       "  4.2313\n",
       "  4.2300\n",
       "  4.2321\n",
       "  4.2249\n",
       "  4.2594\n",
       "  4.2207\n",
       "  4.2825\n",
       "  4.2676\n",
       "  4.2866\n",
       "  4.2793\n",
       "  4.2386\n",
       "  4.2784\n",
       "  4.2338\n",
       "  4.2224\n",
       "  4.2532\n",
       "  4.2832\n",
       "  4.2374\n",
       "  4.2738\n",
       "  4.2534\n",
       "  4.2742\n",
       " [torch.DoubleTensor of size 20]]"
      ]
     },
     "execution_count": 172,
     "metadata": {},
     "output_type": "execute_result"
    }
   ],
   "source": [
    "list(model.parameters())"
   ]
  },
  {
   "cell_type": "code",
   "execution_count": null,
   "metadata": {
    "collapsed": true
   },
   "outputs": [],
   "source": []
  }
 ],
 "metadata": {
  "anaconda-cloud": {},
  "kernelspec": {
   "display_name": "Python [default]",
   "language": "python",
   "name": "python3"
  },
  "language_info": {
   "codemirror_mode": {
    "name": "ipython",
    "version": 3
   },
   "file_extension": ".py",
   "mimetype": "text/x-python",
   "name": "python",
   "nbconvert_exporter": "python",
   "pygments_lexer": "ipython3",
   "version": "3.5.2"
  }
 },
 "nbformat": 4,
 "nbformat_minor": 0
}
