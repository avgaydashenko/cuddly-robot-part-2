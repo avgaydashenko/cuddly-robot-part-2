{
 "cells": [
  {
   "cell_type": "code",
   "execution_count": 1,
   "metadata": {
    "collapsed": true
   },
   "outputs": [],
   "source": [
    "from utils import *"
   ]
  },
  {
   "cell_type": "code",
   "execution_count": 2,
   "metadata": {
    "collapsed": false
   },
   "outputs": [
    {
     "data": {
      "text/plain": [
       "True"
      ]
     },
     "execution_count": 2,
     "metadata": {},
     "output_type": "execute_result"
    }
   ],
   "source": [
    "import lutorpy as lua\n",
    "require(\"nn\")\n",
    "require(\"optim\")\n",
    "require(\"cutorch\")\n",
    "require(\"cunn\")"
   ]
  },
  {
   "cell_type": "code",
   "execution_count": 3,
   "metadata": {
    "collapsed": true
   },
   "outputs": [],
   "source": [
    "np.random.seed(0)"
   ]
  },
  {
   "cell_type": "code",
   "execution_count": 4,
   "metadata": {
    "collapsed": true
   },
   "outputs": [],
   "source": [
    "M = M_star = 5\n",
    "N = NUMBER_OF_PEDESTRIANS\n",
    "X = Y = 256"
   ]
  },
  {
   "cell_type": "code",
   "execution_count": 5,
   "metadata": {
    "collapsed": true
   },
   "outputs": [],
   "source": [
    "location = np.load('src/pedestrians_location.npy') # [NUMBER_OF_PEDESTRIANS x NUMBER_OF_FRAMES x 2]\n",
    "location[:,:,0] = (location[:,:,0] / X).astype(np.int64)\n",
    "location[:,:,1] = (location[:,:,1] / Y).astype(np.int64)\n",
    "# location[i,t] = [x,y] -- location of i-th pedestrian at time point t (aka frame 20*t) -- [0,0] for absent pedestians\n",
    "\n",
    "paths = np.load('src/all_not_ext_paths_with_ids.npy') # paths[j] = [i,t,x,y] -- all pedestrians' coordinates at all frames\n",
    "paths[:,2] = (paths[:,2] / X).astype(np.int64)\n",
    "paths[:,3] = (paths[:,3] / Y).astype(np.int64)"
   ]
  },
  {
   "cell_type": "code",
   "execution_count": 6,
   "metadata": {
    "collapsed": true
   },
   "outputs": [],
   "source": [
    "# M-1 time points before curr_time and M_star after\n",
    "def get_t(curr_time, M, M_star):\n",
    "    step = 20\n",
    "    return np.arange(curr_time - step*(M-1), curr_time + step*(M_star+1), step)"
   ]
  },
  {
   "cell_type": "code",
   "execution_count": 7,
   "metadata": {
    "collapsed": false
   },
   "outputs": [
    {
     "data": {
      "text/plain": [
       "array([ 20,  40,  60,  80, 100, 120, 140, 160, 180, 200])"
      ]
     },
     "execution_count": 7,
     "metadata": {},
     "output_type": "execute_result"
    }
   ],
   "source": [
    "t = get_t(100, M, M_star)\n",
    "ind_t = (t/20).astype(int) # for indexing in location\n",
    "t"
   ]
  },
  {
   "cell_type": "code",
   "execution_count": 8,
   "metadata": {
    "collapsed": false
   },
   "outputs": [],
   "source": [
    "pedestrians_in_scene = paths[paths[:,1] == t[M-1]] # getting all pedestrians who located on map at curr_time\n",
    "\n",
    "disp_volume = np.zeros((X, Y, 2*M))\n",
    "\n",
    "for p in pedestrians_in_scene:\n",
    "    l = location[p[0],ind_t[:M]] # locations of pedestrian at t_1, t_2, ..., t_M time points\n",
    "\n",
    "    # filling zeros absent pedestrians\n",
    "    for i, row in enumerate(l):\n",
    "        if (row == 0).all():\n",
    "            l[i] = l[-1] + np.array([X, Y]) # to get zero after next code line\n",
    "            \n",
    "    d = (l[-1] - l) / np.array([X, Y]) + 1\n",
    "    disp_volume[p[2], p[3]] = d.flatten() # put in [X, Y]-th cell of disp_volume displacement vector"
   ]
  },
  {
   "cell_type": "code",
   "execution_count": null,
   "metadata": {
    "collapsed": false
   },
   "outputs": [],
   "source": [
    "# THERE IS A PROBLEM HERE:\n",
    "# we lose pedestrians' ids after coding into disp_volume so to decode we need somehow match previous path and predicted\n",
    "\n",
    "# displacement volume decode\n",
    "xs, ys = disp_volume[:,:,0].nonzero() # getting indices of non-zero predicted coordinates at first (t_M+1) timepoint\n",
    "for i, j in zip(xs,ys):\n",
    "    np.array([i,j]) - (disp_volume[i,j].reshape(-1,2) - 1) * np.array([X, Y])"
   ]
  },
  {
   "cell_type": "code",
   "execution_count": 9,
   "metadata": {
    "collapsed": false
   },
   "outputs": [
    {
     "data": {
      "text/plain": [
       "<Lua table at 0x41cf09b0>"
      ]
     },
     "execution_count": 9,
     "metadata": {},
     "output_type": "execute_result"
    }
   ],
   "source": [
    "model = nn.Sequential()\n",
    "\n",
    "filters_num = 64\n",
    "kW = kH = 3\n",
    "padW = padH = 1\n",
    "\n",
    "# https://github.com/torch/nn/blob/master/doc/convolution.md#nn.SpatialConvolution\n",
    "model._add(nn.SpatialConvolution(2*M, filters_num, kW, kH, 1, 1, padW, padH)) # conv1\n",
    "model._add(nn.SpatialConvolution(filters_num, filters_num, kW, kH, 1, 1, padW, padH)) # conv2\n",
    "model._add(nn.SpatialConvolution(filters_num, filters_num, kW, kH, 1, 1, padW, padH)) # conv3\n",
    "\n",
    "# https://github.com/torch/nn/blob/master/doc/convolution.md#nn.SpatialMaxPooling\n",
    "model._add(nn.SpatialMaxPooling(2, 2, 2, 2))\n",
    "\n",
    "# https://github.com/torch/nn/blob/master/doc/simple.md#nn.CAdd\n",
    "model._add(nn.CAdd(1, int(Y/2), int(X/2))) # bias\n",
    "\n",
    "model._add(nn.SpatialConvolution(filters_num, filters_num, kW, kH, 1, 1, padW, padH)) # conv4\n",
    "model._add(nn.SpatialConvolution(filters_num, filters_num, kW, kH, 1, 1, padW, padH)) # conv5\n",
    "model._add(nn.SpatialConvolution(filters_num, 2*M_star, kW, kH, 1, 1, padW, padH)) # conv6\n",
    "\n",
    "# https://github.com/torch/nn/blob/master/doc/convolution.md#spatialfullconvolution\n",
    "model._add(nn.SpatialFullConvolution(2*M_star, 2*M_star, 4, 4, 2, 2)) # deconv"
   ]
  },
  {
   "cell_type": "code",
   "execution_count": null,
   "metadata": {
    "collapsed": false
   },
   "outputs": [],
   "source": [
    "model._forward(torch.fromNumpyArray(disp_volume.T))"
   ]
  },
  {
   "cell_type": "code",
   "execution_count": null,
   "metadata": {
    "collapsed": true
   },
   "outputs": [],
   "source": []
  }
 ],
 "metadata": {
  "anaconda-cloud": {},
  "kernelspec": {
   "display_name": "Python [default]",
   "language": "python",
   "name": "python3"
  },
  "language_info": {
   "codemirror_mode": {
    "name": "ipython",
    "version": 3
   },
   "file_extension": ".py",
   "mimetype": "text/x-python",
   "name": "python",
   "nbconvert_exporter": "python",
   "pygments_lexer": "ipython3",
   "version": "3.5.2"
  }
 },
 "nbformat": 4,
 "nbformat_minor": 1
}
