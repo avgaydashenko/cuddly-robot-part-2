{
 "cells": [
  {
   "cell_type": "code",
   "execution_count": 1,
   "metadata": {
    "collapsed": true
   },
   "outputs": [],
   "source": [
    "from utils import *"
   ]
  },
  {
   "cell_type": "code",
   "execution_count": 3,
   "metadata": {
    "collapsed": true
   },
   "outputs": [],
   "source": [
    "for i in range(NUMBER_OF_PEDESTRIANS):\n",
    "    \n",
    "    data = download_pedestrian(i)\n",
    "    \n",
    "    time = np.array(data.index)\n",
    "    x = np.array(data['X'])\n",
    "    y = np.array(data['Y'])\n",
    "    \n",
    "    ext_time = np.arange(time[0], time[-1] + 4, 4)\n",
    "    ext_x = np.interp(ext_time, time, x).astype(np.int64)\n",
    "    ext_y = np.interp(ext_time, time, y).astype(np.int64)\n",
    "    \n",
    "    ext_data = pd.DataFrame({'X': pd.Series(ext_x, index=ext_time), 'Y': pd.Series(ext_y, index=ext_time)})\n",
    "    \n",
    "    ext_data.to_csv('src/ExtCsv/{}.txt'.format(str(i).zfill(ZERO_PADDING)))"
   ]
  }
 ],
 "metadata": {
  "kernelspec": {
   "display_name": "Python 3",
   "language": "python",
   "name": "python3"
  },
  "language_info": {
   "codemirror_mode": {
    "name": "ipython",
    "version": 3
   },
   "file_extension": ".py",
   "mimetype": "text/x-python",
   "name": "python",
   "nbconvert_exporter": "python",
   "pygments_lexer": "ipython3",
   "version": "3.5.1"
  }
 },
 "nbformat": 4,
 "nbformat_minor": 0
}
