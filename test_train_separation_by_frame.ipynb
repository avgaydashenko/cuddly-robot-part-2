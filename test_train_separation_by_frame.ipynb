{
 "cells": [
  {
   "cell_type": "code",
   "execution_count": 1,
   "metadata": {
    "collapsed": true
   },
   "outputs": [],
   "source": [
    "from utils import *"
   ]
  },
  {
   "cell_type": "code",
   "execution_count": 10,
   "metadata": {
    "collapsed": true
   },
   "outputs": [],
   "source": [
    "%matplotlib inline\n",
    "\n",
    "plt.style.use('ggplot')\n",
    "plt.rcParams['figure.figsize'] = (15, 7)"
   ]
  },
  {
   "cell_type": "code",
   "execution_count": 2,
   "metadata": {
    "collapsed": true
   },
   "outputs": [],
   "source": [
    "paths = np.load('src/all_not_ext_paths_with_ids.npy')"
   ]
  },
  {
   "cell_type": "code",
   "execution_count": 3,
   "metadata": {
    "collapsed": false
   },
   "outputs": [],
   "source": [
    "result = []\n",
    "frames = []\n",
    "\n",
    "for curr_time in range(100, 120000, 200):\n",
    "\n",
    "    time_before = np.arange(curr_time, curr_time - 5 * 20, -20)[::-1]\n",
    "    time_after = np.arange(curr_time, curr_time + 6 * 20, 20)[1:]\n",
    "    \n",
    "    pedestrians_in_scene = paths[(paths[:,1] >= time_before[0])*(paths[:,1] <= time_after[-1])]\n",
    "    \n",
    "    tmp = np.bincount(pedestrians_in_scene[:,0])\n",
    "    ind = np.nonzero(tmp)[0]\n",
    "    frame_per_pedestrian = np.vstack((np.unique(pedestrians_in_scene[:,0]), tmp[ind])).T\n",
    "    \n",
    "    if frame_per_pedestrian.shape[0] != 0:\n",
    "        result.append(np.count_nonzero(frame_per_pedestrian[:,1] != 10) / frame_per_pedestrian.shape[0] * 100)\n",
    "        frames.append(curr_time)\n",
    "        \n",
    "labels = np.array(result)\n",
    "frames = np.array(frames)\n",
    "\n",
    "labels = (labels / 8).astype(int)"
   ]
  },
  {
   "cell_type": "markdown",
   "metadata": {},
   "source": [
    "For each tenth frame we store in result (labels) a percent of pedestrians in that frame which are NOT in all ten nearest frames."
   ]
  },
  {
   "cell_type": "markdown",
   "metadata": {},
   "source": [
    "In original labels the least populated class has only 1 member, which is too few. The minimum number of labels for any class cannot be less than 2 to use stratified shuffle split so let's join some classes."
   ]
  },
  {
   "cell_type": "code",
   "execution_count": 4,
   "metadata": {
    "collapsed": false
   },
   "outputs": [],
   "source": [
    "from sklearn.cross_validation import StratifiedShuffleSplit\n",
    "\n",
    "sss = StratifiedShuffleSplit(labels, test_size=1/6, n_iter=1)\n",
    "\n",
    "for train, test in sss:\n",
    "    train_indices = train\n",
    "    test_indices = test"
   ]
  },
  {
   "cell_type": "code",
   "execution_count": 5,
   "metadata": {
    "collapsed": false
   },
   "outputs": [],
   "source": [
    "category = np.empty_like(frames, dtype=object)\n",
    "category[train_indices] = 'train'\n",
    "category[test_indices] = 'test'"
   ]
  },
  {
   "cell_type": "markdown",
   "metadata": {
    "collapsed": true
   },
   "source": [
    "Let's check that mean values in all selection, in train and in test are the same."
   ]
  },
  {
   "cell_type": "code",
   "execution_count": 6,
   "metadata": {
    "collapsed": false
   },
   "outputs": [
    {
     "data": {
      "text/plain": [
       "(5.8706896551724137, 5.873180873180873, 5.858585858585859)"
      ]
     },
     "execution_count": 6,
     "metadata": {},
     "output_type": "execute_result"
    }
   ],
   "source": [
    "labels.mean(), labels[train_indices].mean(), labels[test_indices].mean()"
   ]
  },
  {
   "cell_type": "code",
   "execution_count": 12,
   "metadata": {
    "collapsed": true
   },
   "outputs": [],
   "source": [
    "data = pd.DataFrame({'frame_number': pd.Series(frames, index=range(frames.shape[0])),\n",
    "                     'category': pd.Series(category, index=range(frames.shape[0])),\n",
    "                     'label': pd.Series(labels, index=range(frames.shape[0]))})"
   ]
  },
  {
   "cell_type": "code",
   "execution_count": 13,
   "metadata": {
    "collapsed": true
   },
   "outputs": [],
   "source": [
    "data.to_csv('src/test_train_separation_by_frame.csv')"
   ]
  },
  {
   "cell_type": "code",
   "execution_count": 15,
   "metadata": {
    "collapsed": false
   },
   "outputs": [],
   "source": [
    "test_by_labels = data[data['category'] == 'test'].groupby(['label'])['label'].count()\n",
    "train_by_labels = data[data['category'] == 'train'].groupby(['label'])['label'].count()"
   ]
  },
  {
   "cell_type": "code",
   "execution_count": 27,
   "metadata": {
    "collapsed": false
   },
   "outputs": [],
   "source": [
    "test_by_labels_normalized = test_by_labels.reindex(range(13)) / len(test_indices) * 100\n",
    "train_by_labels_normalized = train_by_labels.reindex(range(13)) / len(train_indices) * 100"
   ]
  },
  {
   "cell_type": "code",
   "execution_count": 28,
   "metadata": {
    "collapsed": true
   },
   "outputs": [],
   "source": [
    "test_by_labels_normalized[test_by_labels_normalized.isnull()] = 0\n",
    "train_by_labels_normalized[train_by_labels_normalized.isnull()] = 0"
   ]
  },
  {
   "cell_type": "code",
   "execution_count": 33,
   "metadata": {
    "collapsed": false
   },
   "outputs": [
    {
     "data": {
      "text/plain": [
       "<matplotlib.legend.Legend at 0x7f8dbf9dba90>"
      ]
     },
     "execution_count": 33,
     "metadata": {},
     "output_type": "execute_result"
    },
    {
     "data": {
      "image/png": "[encoded data removed]",
      "text/plain": [
       "<matplotlib.figure.Figure at 0x7f8dbf674978>"
      ]
     },
     "metadata": {},
     "output_type": "display_data"
    }
   ],
   "source": [
    "ind = np.arange(13)\n",
    "width = 0.4\n",
    "test_bar = plt.bar(ind - width/2, test_by_labels_normalized, width, color='r')\n",
    "train_bar = plt.bar(ind + width/2, train_by_labels_normalized, width, color='b')\n",
    "\n",
    "plt.ylabel('Percent')\n",
    "plt.xlabel('Label number')\n",
    "plt.title('Frame percent by label')\n",
    "plt.xticks(ind + width/2., range(13))\n",
    "plt.legend((test_bar[0], train_bar[0]), ('Test', 'Train'))\n",
    "#plt.savefig('src/Plots/170221_frames_separation_percent_by_label.png')"
   ]
  },
  {
   "cell_type": "code",
   "execution_count": null,
   "metadata": {
    "collapsed": true
   },
   "outputs": [],
   "source": []
  }
 ],
 "metadata": {
  "anaconda-cloud": {},
  "kernelspec": {
   "display_name": "Python [conda root]",
   "language": "python",
   "name": "conda-root-py"
  },
  "language_info": {
   "codemirror_mode": {
    "name": "ipython",
    "version": 3
   },
   "file_extension": ".py",
   "mimetype": "text/x-python",
   "name": "python",
   "nbconvert_exporter": "python",
   "pygments_lexer": "ipython3",
   "version": "3.5.2"
  }
 },
 "nbformat": 4,
 "nbformat_minor": 1
}
